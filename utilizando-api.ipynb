{
 "cells": [
  {
   "cell_type": "markdown",
   "metadata": {},
   "source": [
    "Nesse notebook vamos apresentar como consumir a api de campeões do LOL criada para o trabalho 2 da disciplina de coleta de dados. \n",
    "\n",
    "Para rodar o nootebook crie uma ambiente no conda com os requirements que está localizado na raiz do projeto.\n",
    "\n",
    "Então para começar vamos fazer o get de todos os campeõs do datashet, assim conseguimos ter uma noção mais geral."
   ]
  },
  {
   "cell_type": "code",
   "execution_count": null,
   "metadata": {},
   "outputs": [],
   "source": [
    "import requests\n",
    "\n",
    "# URL da API\n",
    "url = \"https://api-champions-lol.onrender.com\"\n",
    "\n",
    "# Realiza a requisição GET\n",
    "response = requests.get(url+\"/champions\")\n",
    "\n",
    "# Verifica se a requisição foi bem-sucedida\n",
    "if response.status_code == 200:\n",
    "    campeoes = response.json()\n",
    "    print(campeoes)\n",
    "else:\n",
    "    print(f\"Erro na requisição: {response.status_code}\")"
   ]
  },
  {
   "cell_type": "markdown",
   "metadata": {},
   "source": [
    "Então agora que a gente sabe o nome dos campeõs podemos pesquisar por algum especifico, como fizemos no exemplo abaixo. "
   ]
  },
  {
   "cell_type": "code",
   "execution_count": null,
   "metadata": {},
   "outputs": [],
   "source": [
    "# Realiza a requisição GET\n",
    "response = requests.get(url+\"/champions/Zed\")\n",
    "\n",
    "# Verifica se a requisição foi bem-sucedida\n",
    "if response.status_code == 200:\n",
    "    campeoes = response.json()\n",
    "    print(campeoes)\n",
    "else:\n",
    "    print(f\"Erro na requisição: {response.status_code}\")"
   ]
  },
  {
   "cell_type": "markdown",
   "metadata": {},
   "source": [
    "Caso não exista um campeão a rota vai retornar erro com o status 404, como no exemplo abaixo."
   ]
  },
  {
   "cell_type": "code",
   "execution_count": null,
   "metadata": {},
   "outputs": [],
   "source": [
    "# Realiza a requisição GET\n",
    "response = requests.get(url+\"/champions/Teste123\")\n",
    "\n",
    "# Verifica se a requisição foi bem-sucedida\n",
    "if response.status_code == 200:\n",
    "    campeoes = response.json()\n",
    "    print(campeoes)\n",
    "else:\n",
    "    print(f\"Erro na requisição: {response.status_code}\")"
   ]
  },
  {
   "cell_type": "markdown",
   "metadata": {},
   "source": [
    "Agora que sabemos que o campeão Teste123 não existe, podemos utilizar a rota de criação de campeão. "
   ]
  },
  {
   "cell_type": "code",
   "execution_count": null,
   "metadata": {},
   "outputs": [],
   "source": [
    "# Define o corpo da requisição POST\n",
    "novo_campeao = {\n",
    "    \"Name\": \"Teste123\",\n",
    "    \"Tags\": \"Mage,Support\",\n",
    "    \"Role\": \"Support\",\n",
    "    \"Range type\": \"Ranged\",\n",
    "    \"Resourse type\": \"Mana\",\n",
    "    \"Base HP\": 574,\n",
    "    \"HP per lvl\": 93,\n",
    "    \"Base mana\": 418,\n",
    "    \"Mana per lvl\": 25,\n",
    "    \"Movement speed\": 340,\n",
    "    \"Base armor\": 29,\n",
    "    \"Armor per lvl\": 4.2,\n",
    "    \"Base magic resistance\": 30,\n",
    "    \"Magic resistance per lvl\": 1.3,\n",
    "    \"Attack range\": 575,\n",
    "    \"HP regeneration\": 5.5,\n",
    "    \"HP regeneration per lvl\": 0.5,\n",
    "    \"Mana regeneration\": 7,\n",
    "    \"Mana regeneration per lvl\": 0.8,\n",
    "    \"Attack damage\": 53,\n",
    "    \"Attack damage per lvl\": 3.2,\n",
    "    \"Attack speed per lvl\": 2.11,\n",
    "    \"Attack speed\": 0.681,\n",
    "    \"AS ratio\": 0.625\n",
    "}\n",
    "\n",
    "# Realiza a requisição POST\n",
    "response = requests.post(url + \"/champions\", json=novo_campeao)\n",
    "\n",
    "# Verifica se a requisição foi bem-sucedida\n",
    "if response.status_code == 201:\n",
    "    print(\"Campeão criado com sucesso!\")\n",
    "    print(response.json())\n",
    "else:\n",
    "    print(f\"Erro na criação do campeão: {response.status_code}\")\n",
    "    print(response.json())"
   ]
  },
  {
   "cell_type": "markdown",
   "metadata": {},
   "source": [
    "Como podemos ver para criar um campeão necessitamos de varios parametros, caso algum desses atributos não seja enviado a rota retorna erro 400 e a lista de atributos que faltam para a criação do campeão. Podemos ver no exemplo abaixo. "
   ]
  },
  {
   "cell_type": "code",
   "execution_count": null,
   "metadata": {},
   "outputs": [],
   "source": [
    "# Define o corpo da requisição POST\n",
    "novo_campeao = {\n",
    "    \"Name\": \"Teste\",\n",
    "    \"Tags\": \"Mage,Support\",\n",
    "    \"Role\": \"Support\",\n",
    "    \"Range type\": \"Ranged\",\n",
    "    \"Resourse type\": \"Mana\",\n",
    "    \"Base HP\": 574,\n",
    "    \"HP per lvl\": 93,\n",
    "    \"Base mana\": 418,\n",
    "    \"Mana per lvl\": 25,\n",
    "    \"Movement speed\": 340,\n",
    "    \"Base armor\": 29,\n",
    "    \"AS ratio\": 0.625\n",
    "}\n",
    "\n",
    "# Realiza a requisição POST\n",
    "response = requests.post(url + \"/champions\", json=novo_campeao)\n",
    "\n",
    "# Verifica se a requisição foi bem-sucedida\n",
    "if response.status_code == 201:\n",
    "    print(\"Campeão criado com sucesso!\")\n",
    "    print(response.json())\n",
    "else:\n",
    "    print(f\"Erro na criação do campeão: {response.status_code}\")\n",
    "    print(response.json())"
   ]
  },
  {
   "cell_type": "markdown",
   "metadata": {},
   "source": [
    "Outro detalhe é que não podemos criar um campeão com o nome igual a um ja existente, caso criamos é retornado erro como no exemplo abaixo: "
   ]
  },
  {
   "cell_type": "code",
   "execution_count": null,
   "metadata": {},
   "outputs": [],
   "source": [
    "# Define o corpo da requisição POST\n",
    "novo_campeao = {\n",
    "    \"Name\": \"Teste123\",\n",
    "    \"Tags\": \"Mage,Support\",\n",
    "    \"Role\": \"Support\",\n",
    "    \"Range type\": \"Ranged\",\n",
    "    \"Resourse type\": \"Mana\",\n",
    "    \"Base HP\": 574,\n",
    "    \"HP per lvl\": 93,\n",
    "    \"Base mana\": 418,\n",
    "    \"Mana per lvl\": 25,\n",
    "    \"Movement speed\": 340,\n",
    "    \"Base armor\": 29,\n",
    "    \"Armor per lvl\": 4.2,\n",
    "    \"Base magic resistance\": 30,\n",
    "    \"Magic resistance per lvl\": 1.3,\n",
    "    \"Attack range\": 575,\n",
    "    \"HP regeneration\": 5.5,\n",
    "    \"HP regeneration per lvl\": 0.5,\n",
    "    \"Mana regeneration\": 7,\n",
    "    \"Mana regeneration per lvl\": 0.8,\n",
    "    \"Attack damage\": 53,\n",
    "    \"Attack damage per lvl\": 3.2,\n",
    "    \"Attack speed per lvl\": 2.11,\n",
    "    \"Attack speed\": 0.681,\n",
    "    \"AS ratio\": 0.625\n",
    "}\n",
    "\n",
    "# Realiza a requisição POST\n",
    "response = requests.post(url + \"/champions\", json=novo_campeao)\n",
    "\n",
    "# Verifica se a requisição foi bem-sucedida\n",
    "if response.status_code == 201:\n",
    "    print(\"Campeão criado com sucesso!\")\n",
    "    print(response.json())\n",
    "else:\n",
    "    print(f\"Erro na criação do campeão: {response.status_code}\")\n",
    "    print(response.json())"
   ]
  },
  {
   "cell_type": "markdown",
   "metadata": {},
   "source": [
    "Mas como não podemos criar um campeão duplicado podemos fazer update, como podemos ver no exemplo abaixo:"
   ]
  },
  {
   "cell_type": "code",
   "execution_count": null,
   "metadata": {},
   "outputs": [],
   "source": [
    "# Define o corpo da requisição POST\n",
    "update_campeao = {\n",
    "    \"Tags\": \"Mage,Support\",\n",
    "    \"Role\": \"Support\",\n",
    "    \"Range type\": \"Ranged\",\n",
    "    \"Resourse type\": \"Mana\",\n",
    "    \"Base HP\": 574,\n",
    "    \"HP per lvl\": 93,\n",
    "    \"Base mana\": 418,\n",
    "    \"Mana per lvl\": 25,\n",
    "    \"Movement speed\": 340,\n",
    "    \"Base armor\": 29,\n",
    "    \"Armor per lvl\": 4.2,\n",
    "    \"Base magic resistance\": 30,\n",
    "    \"Magic resistance per lvl\": 1.3,\n",
    "    \"Attack range\": 575,\n",
    "    \"HP regeneration\": 5.5,\n",
    "    \"HP regeneration per lvl\": 0.5,\n",
    "    \"Mana regeneration\": 7,\n",
    "    \"Mana regeneration per lvl\": 0.8,\n",
    "    \"Attack damage\": 53,\n",
    "    \"Attack damage per lvl\": 3.2,\n",
    "    \"Attack speed per lvl\": 2.11,\n",
    "    \"Attack speed\": 0.681,\n",
    "    \"AS ratio\": 0.625\n",
    "}\n",
    "\n",
    "# Realiza a requisição PUT\n",
    "response = requests.put(url + \"/champions/Teste123\", json=update_campeao)\n",
    "\n",
    "# Verifica se a requisição foi bem-sucedida\n",
    "if response.status_code == 200:\n",
    "    print(\"Campeão atualizado com sucesso!\")\n",
    "    print(response.json())\n",
    "else:\n",
    "    print(f\"Erro na Atualização do campeão: {response.status_code}\")\n",
    "    print(response.json())"
   ]
  },
  {
   "cell_type": "markdown",
   "metadata": {},
   "source": [
    "O único campo que não podemos atualizar é o name do campeão, pois utilizamos o mesmo como ID de cada campeão, caso tentamo atualizar é retornado um erro. Como no exemplo abaixo: "
   ]
  },
  {
   "cell_type": "code",
   "execution_count": null,
   "metadata": {},
   "outputs": [],
   "source": [
    "# Define o corpo da requisição POST\n",
    "update_campeao = {\n",
    "    \"Name\": \"Teste123\",\n",
    "    \"Tags\": \"Mage,Support\",\n",
    "    \"Role\": \"Support\",\n",
    "    \"Range type\": \"Ranged\",\n",
    "    \"Resourse type\": \"Mana\",\n",
    "    \"Base HP\": 574,\n",
    "    \"HP per lvl\": 93,\n",
    "    \"Base mana\": 418,\n",
    "    \"Mana per lvl\": 25,\n",
    "    \"Movement speed\": 340,\n",
    "    \"Base armor\": 29,\n",
    "    \"Armor per lvl\": 4.2,\n",
    "    \"Base magic resistance\": 30,\n",
    "    \"Magic resistance per lvl\": 1.3,\n",
    "    \"Attack range\": 575,\n",
    "    \"HP regeneration\": 5.5,\n",
    "    \"HP regeneration per lvl\": 0.5,\n",
    "    \"Mana regeneration\": 7,\n",
    "    \"Mana regeneration per lvl\": 0.8,\n",
    "    \"Attack damage\": 53,\n",
    "    \"Attack damage per lvl\": 3.2,\n",
    "    \"Attack speed per lvl\": 2.11,\n",
    "    \"Attack speed\": 0.681,\n",
    "    \"AS ratio\": 0.625\n",
    "}\n",
    "\n",
    "# Realiza a requisição PUT\n",
    "response = requests.put(url + \"/champions/Teste123\", json=update_campeao)\n",
    "\n",
    "# Verifica se a requisição foi bem-sucedida\n",
    "if response.status_code == 200:\n",
    "    print(\"Campeão atualizado com sucesso!\")\n",
    "    print(response.json())\n",
    "else:\n",
    "    print(f\"Erro na Atualização do campeão: {response.status_code}\")\n",
    "    print(response.json())"
   ]
  },
  {
   "cell_type": "markdown",
   "metadata": {},
   "source": [
    "E por último podemos deletar um campeão passando o nome do mesmo, como podemos ver no exemplo abaixo:"
   ]
  },
  {
   "cell_type": "code",
   "execution_count": null,
   "metadata": {},
   "outputs": [],
   "source": [
    "\n",
    "# Realiza a requisição DELETE\n",
    "response = requests.delete(url + \"/champions/Teste123\")\n",
    "\n",
    "# Verifica se a requisição foi bem-sucedida\n",
    "if response.status_code == 200:\n",
    "    print(\"Campeão deletado com sucesso!\")\n",
    "    print(response.json())\n",
    "else:\n",
    "    print(f\"Erro na Deleção do campeão: {response.status_code}\")\n",
    "    print(response.json())"
   ]
  }
 ],
 "metadata": {
  "kernelspec": {
   "display_name": "python3",
   "language": "python",
   "name": "python3"
  },
  "language_info": {
   "codemirror_mode": {
    "name": "ipython",
    "version": 3
   },
   "file_extension": ".py",
   "mimetype": "text/x-python",
   "name": "python",
   "nbconvert_exporter": "python",
   "pygments_lexer": "ipython3",
   "version": "3.9.19"
  }
 },
 "nbformat": 4,
 "nbformat_minor": 2
}
